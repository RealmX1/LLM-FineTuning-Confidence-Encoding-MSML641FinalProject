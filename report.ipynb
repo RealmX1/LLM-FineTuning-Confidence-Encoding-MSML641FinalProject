{
 "cells": [
  {
   "cell_type": "markdown",
   "metadata": {},
   "source": [
    "### Comparative Confidence Ranking\n",
    "\n",
    "The models' default ranking of different confidence level for the confidence embedded phrases will be used to generate the synthetic confidence data. This will make it easier to compare different models's ability to encode confidence in the fine-tuning data.\n",
    "\n",
    "To retrieve the models' default confidence ranking, the models will be asked to make pair-wise comparison between confidence phrases in context, the result of which will be used to calculate a default relative confidence encoding sheet."
   ]
  },
  {
   "cell_type": "markdown",
   "metadata": {},
   "source": [
    "Inorder to test whether this kind of comparative confidence test makes sense, we added a few modified phrases that have apparent difference in confidence from the original as test-set, so as to see whether the model understand difference in confidence at all: e.g., \"I'm sure that\" vs \"I'm absolutely sure that\""
   ]
  },
  {
   "cell_type": "markdown",
   "metadata": {},
   "source": [
    "And the result showed in the ranking list, for the better (larger models), it is capable of correctly seperate our intentionally added phrases (at desired different location opposite of the ranking)"
   ]
  }
 ],
 "metadata": {
  "language_info": {
   "name": "python"
  }
 },
 "nbformat": 4,
 "nbformat_minor": 2
}
